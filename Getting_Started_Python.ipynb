{
  "nbformat": 4,
  "nbformat_minor": 0,
  "metadata": {
    "colab": {
      "provenance": [],
      "toc_visible": true,
      "authorship_tag": "ABX9TyMg7dyZp6krqlRfXOcuHREw",
      "include_colab_link": true
    },
    "kernelspec": {
      "name": "python3",
      "display_name": "Python 3"
    },
    "language_info": {
      "name": "python"
    }
  },
  "cells": [
    {
      "cell_type": "markdown",
      "metadata": {
        "id": "view-in-github",
        "colab_type": "text"
      },
      "source": [
        "<a href=\"https://colab.research.google.com/github/azCyberTech/PythonForDevOps2022/blob/main/Getting_Started_Python.ipynb\" target=\"_parent\"><img src=\"https://colab.research.google.com/assets/colab-badge.svg\" alt=\"Open In Colab\"/></a>"
      ]
    },
    {
      "cell_type": "markdown",
      "source": [
        "## Introduction to Python"
      ],
      "metadata": {
        "id": "eyullP8WO5IH"
      }
    },
    {
      "cell_type": "markdown",
      "source": [
        "### Statements in Python"
      ],
      "metadata": {
        "id": "w0Rr_D-uPA0c"
      }
    },
    {
      "cell_type": "code",
      "source": [
        "print (\"Hello World!\")  "
      ],
      "metadata": {
        "id": "lyOugvYpPVuN",
        "outputId": "6c55164f-6af0-4a8f-ba57-296471899645",
        "colab": {
          "base_uri": "https://localhost:8080/"
        }
      },
      "execution_count": 1,
      "outputs": [
        {
          "output_type": "stream",
          "name": "stdout",
          "text": [
            "Hello World!\n"
          ]
        }
      ]
    },
    {
      "cell_type": "code",
      "source": [
        "name = \"Arun\"\n",
        "print (f\"Hello {name}\")"
      ],
      "metadata": {
        "id": "NbI3W_D5QOeK",
        "outputId": "f7a61469-021c-4010-ca8b-c68dc559f800",
        "colab": {
          "base_uri": "https://localhost:8080/"
        }
      },
      "execution_count": 4,
      "outputs": [
        {
          "output_type": "stream",
          "name": "stdout",
          "text": [
            "Hello Arun\n"
          ]
        }
      ]
    },
    {
      "cell_type": "markdown",
      "source": [
        "### Datastructures: Lists and Dictionaries"
      ],
      "metadata": {
        "id": "-HVHrWyURNgB"
      }
    },
    {
      "cell_type": "markdown",
      "source": [
        "#### List"
      ],
      "metadata": {
        "id": "6iAoL3kmVntt"
      }
    },
    {
      "cell_type": "code",
      "source": [
        "fruit = [\"Apple\", \"Pear\", \"Strawberry\"]"
      ],
      "metadata": {
        "id": "5w8fukqcRY59",
        "outputId": "74754a0a-72d6-4cd9-a625-1b0a62a2487b",
        "colab": {
          "base_uri": "https://localhost:8080/"
        }
      },
      "execution_count": 6,
      "outputs": [
        {
          "output_type": "execute_result",
          "data": {
            "text/plain": [
              "list"
            ]
          },
          "metadata": {},
          "execution_count": 6
        }
      ]
    },
    {
      "cell_type": "code",
      "source": [
        "type(fruit)"
      ],
      "metadata": {
        "id": "nud6LpWFSCA8",
        "outputId": "be5b4f54-23c7-48e8-cf9f-8b6f6a01be06",
        "colab": {
          "base_uri": "https://localhost:8080/"
        }
      },
      "execution_count": 9,
      "outputs": [
        {
          "output_type": "execute_result",
          "data": {
            "text/plain": [
              "list"
            ]
          },
          "metadata": {},
          "execution_count": 9
        }
      ]
    },
    {
      "cell_type": "code",
      "source": [
        "fruit[0]"
      ],
      "metadata": {
        "id": "Q75W-HtuT_FQ",
        "outputId": "b045ce21-0203-4917-cf82-30e151587f57",
        "colab": {
          "base_uri": "https://localhost:8080/",
          "height": 36
        }
      },
      "execution_count": 10,
      "outputs": [
        {
          "output_type": "execute_result",
          "data": {
            "text/plain": [
              "'apple'"
            ],
            "application/vnd.google.colaboratory.intrinsic+json": {
              "type": "string"
            }
          },
          "metadata": {},
          "execution_count": 10
        }
      ]
    },
    {
      "cell_type": "code",
      "source": [
        "fruit[:-1]"
      ],
      "metadata": {
        "id": "utiFp6-oUivL",
        "outputId": "f73893ca-064c-4cca-f99f-c9d9e0562a80",
        "colab": {
          "base_uri": "https://localhost:8080/"
        }
      },
      "execution_count": 13,
      "outputs": [
        {
          "output_type": "execute_result",
          "data": {
            "text/plain": [
              "['apple', 'pear']"
            ]
          },
          "metadata": {},
          "execution_count": 13
        }
      ]
    },
    {
      "cell_type": "code",
      "source": [
        "for fav_fruit in fruit:\n",
        "  print(f\"This is my favorite fruit: {fav_fruit}\")"
      ],
      "metadata": {
        "id": "gRPzABVnUtui",
        "outputId": "1291d0e5-3d57-4ede-8336-4bfe1fd1b34a",
        "colab": {
          "base_uri": "https://localhost:8080/"
        }
      },
      "execution_count": 15,
      "outputs": [
        {
          "output_type": "stream",
          "name": "stdout",
          "text": [
            "This is my favorite fruit: apple\n",
            "This is my favorite fruit: pear\n",
            "This is my favorite fruit: strawberry\n"
          ]
        }
      ]
    },
    {
      "cell_type": "markdown",
      "source": [
        "#### Dictionary"
      ],
      "metadata": {
        "id": "kO2Qv5K_Vsmj"
      }
    },
    {
      "cell_type": "code",
      "source": [
        "meal = {\"breakfast\": \"Honey Lemon\", \"lunch\": \"Salad\", \"dinner\": \"Rice and Beans\"}\n",
        "meal.keys()"
      ],
      "metadata": {
        "id": "IGIy9t4wVz4K",
        "outputId": "7d0bd367-ce76-4738-95bb-03552131393c",
        "colab": {
          "base_uri": "https://localhost:8080/"
        }
      },
      "execution_count": 19,
      "outputs": [
        {
          "output_type": "execute_result",
          "data": {
            "text/plain": [
              "dict_keys(['breakfast', 'lunch', 'dinner'])"
            ]
          },
          "metadata": {},
          "execution_count": 19
        }
      ]
    },
    {
      "cell_type": "code",
      "source": [
        "meal.values()"
      ],
      "metadata": {
        "id": "qqxLRcSLXEQB",
        "outputId": "a7dff336-5389-4983-a535-5ca0e491c180",
        "colab": {
          "base_uri": "https://localhost:8080/"
        }
      },
      "execution_count": 20,
      "outputs": [
        {
          "output_type": "execute_result",
          "data": {
            "text/plain": [
              "dict_values(['Honey Lemon', 'Salad', 'Rice and Beans'])"
            ]
          },
          "metadata": {},
          "execution_count": 20
        }
      ]
    },
    {
      "cell_type": "code",
      "source": [
        "for meal_name, meal_item in meal.items():\n",
        "  print(f\"This meal {meal_name} is when I like to consume {meal_item}\")\n"
      ],
      "metadata": {
        "id": "KRVDRDthXMfC",
        "outputId": "febc48bb-3d27-42cd-9ce5-bcd2e88c4831",
        "colab": {
          "base_uri": "https://localhost:8080/"
        }
      },
      "execution_count": 21,
      "outputs": [
        {
          "output_type": "stream",
          "name": "stdout",
          "text": [
            "This meal breakfast is when I like to consume Honey Lemon\n",
            "This meal lunch is when I like to consume Salad\n",
            "This meal dinner is when I like to consume Rice and Beans\n"
          ]
        }
      ]
    }
  ]
}